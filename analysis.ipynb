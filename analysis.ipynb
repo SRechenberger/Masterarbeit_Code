{
 "cells": [
  {
   "cell_type": "code",
   "execution_count": 139,
   "metadata": {},
   "outputs": [],
   "source": [
    "import math\n",
    "import numpy as np\n",
    "import numpy.linalg as la\n",
    "from importlib import reload\n",
    "import seaborn as sns\n",
    "import matplotlib.pyplot as plt\n",
    "from scipy.stats import beta, norm, gamma, kstest, alpha, t, rice, weibull_min\n",
    "a4_dims = (11.7, 8.27)"
   ]
  },
  {
   "cell_type": "code",
   "execution_count": 2,
   "metadata": {},
   "outputs": [
    {
     "data": {
      "text/plain": [
       "1.0"
      ]
     },
     "execution_count": 2,
     "metadata": {},
     "output_type": "execute_result"
    }
   ],
   "source": [
    "x = np.array([1,0,0])\n",
    "la.norm(x)"
   ]
  },
  {
   "cell_type": "code",
   "execution_count": 26,
   "metadata": {},
   "outputs": [
    {
     "data": {
      "text/plain": [
       "<module 'src.analysis.utils' from '/home/garro/Projects/masterarbeit/src/analysis/utils.py'>"
      ]
     },
     "execution_count": 26,
     "metadata": {},
     "output_type": "execute_result"
    }
   ],
   "source": [
    "import src.analysis.utils as ana_utils\n",
    "reload(ana_utils)"
   ]
  },
  {
   "cell_type": "code",
   "execution_count": null,
   "metadata": {},
   "outputs": [],
   "source": []
  },
  {
   "cell_type": "code",
   "execution_count": 35,
   "metadata": {},
   "outputs": [
    {
     "name": "stdout",
     "output_type": "stream",
     "text": [
      "[[0.         1.         1.         ... 0.33333333 1.         1.        ]\n",
      " [0.         1.         0.88888889 ... 1.         1.         1.        ]\n",
      " [0.         1.         1.         ... 1.         1.         1.        ]\n",
      " ...\n",
      " [0.         1.         1.         ... 0.76666667 0.5        1.        ]\n",
      " [0.         1.         0.83333333 ... 1.         1.         1.        ]\n",
      " [0.         1.         1.         ... 1.         1.         1.        ]]\n"
     ]
    },
    {
     "data": {
      "text/plain": [
       "(array([2.03854557e-01, 2.03312650e-01, 1.15471250e-04, 1.10534493e-04,\n",
       "        1.09531173e-04, 1.04849511e-04, 1.00829608e-04, 9.94457319e-05,\n",
       "        9.41038631e-05, 8.94588519e-05, 8.69939564e-05, 9.08931719e-05,\n",
       "        9.31266542e-05, 8.76022332e-05, 8.46487243e-05, 7.96162869e-05,\n",
       "        7.39605207e-05, 7.22624596e-05, 7.41915459e-05, 7.86171302e-05,\n",
       "        8.27045283e-05, 8.34310161e-05, 8.60919432e-05, 8.59405939e-05,\n",
       "        8.37977153e-05, 8.73059641e-05, 9.47229435e-05, 9.63964030e-05,\n",
       "        9.26799856e-05, 9.74842365e-05, 1.13079387e-04, 1.40121109e-04,\n",
       "        1.65195736e-04, 1.84887183e-04, 1.92212132e-04, 1.85580939e-04,\n",
       "        1.82362325e-04, 1.83439407e-04, 1.95289805e-04, 2.04367331e-04,\n",
       "        2.05378921e-04, 2.05540892e-04, 2.11407864e-04, 2.21402882e-04,\n",
       "        2.39219134e-04, 2.41995551e-04, 2.38471614e-04, 2.46170066e-04,\n",
       "        3.03483009e-04, 3.88801277e-04, 5.09744045e-04, 7.41357013e-04,\n",
       "        1.25331496e-03, 2.14579899e-03, 4.29612843e-03, 1.05781310e-02,\n",
       "        2.26006111e-02, 4.68838520e-02, 7.31165791e-02, 9.07160228e-02,\n",
       "        8.31746916e-02, 7.01760373e-02, 1.07875419e-01, 7.19800056e-02,\n",
       "        0.00000000e+00]), True)"
      ]
     },
     "execution_count": 35,
     "metadata": {},
     "output_type": "execute_result"
    }
   ],
   "source": [
    "xs = ana_utils.read_improvement_probs('/media/sf_VBoxshare/Experimente/output/static_2/gsat.db', 1)\n",
    "distr = np.array([p for _, p in xs])\n",
    "print(distr)\n",
    "d = ana_utils.approximate_stationary_distr(distr[0], eps=2**(-10))\n",
    "d"
   ]
  },
  {
   "cell_type": "code",
   "execution_count": 192,
   "metadata": {},
   "outputs": [],
   "source": [
    "xs = ana_utils.get_tms_entropy(\n",
    "    '/media/sf_VBoxshare/Experimente/output/static_2/walksat.db', 2,\n",
    "    eps=2**(-17), max_loops=20000\n",
    ")"
   ]
  },
  {
   "cell_type": "code",
   "execution_count": 193,
   "metadata": {},
   "outputs": [
    {
     "name": "stdout",
     "output_type": "stream",
     "text": [
      "60\n"
     ]
    }
   ],
   "source": [
    "all_data = []\n",
    "for _, h, c in xs:\n",
    "    if c and h > 0.01:\n",
    "        all_data.append(h)\n",
    "print(len(all_data))"
   ]
  },
  {
   "cell_type": "code",
   "execution_count": 194,
   "metadata": {},
   "outputs": [
    {
     "data": {
      "text/plain": [
       "<matplotlib.axes._subplots.AxesSubplot at 0x7f04365cf4a8>"
      ]
     },
     "execution_count": 194,
     "metadata": {},
     "output_type": "execute_result"
    },
    {
     "data": {
      "image/png": "[encoded data removed]",
      "text/plain": [
       "<Figure size 842.4x595.44 with 1 Axes>"
      ]
     },
     "metadata": {
      "needs_background": "light"
     },
     "output_type": "display_data"
    }
   ],
   "source": [
    "fig, ax = plt.subplots(figsize=a4_dims)\n",
    "sns.distplot(all_data, bins=20, norm_hist=True, fit=t)\n",
    "#xs = np.arange(0.0,1,0.0001)\n",
    "#theta_beta = beta.fit(plot_data)\n",
    "#ax.plot(xs, beta.pdf(xs, *theta_beta)) #3.28, 1.714, loc=0.9652, scale=0.0276))"
   ]
  },
  {
   "cell_type": "code",
   "execution_count": 47,
   "metadata": {},
   "outputs": [],
   "source": [
    "theta_beta = beta.fit(all_data)\n",
    "theta_norm = norm.fit(all_data)\n",
    "theta_gamma = gamma.fit(all_data)"
   ]
  },
  {
   "cell_type": "code",
   "execution_count": 48,
   "metadata": {},
   "outputs": [
    {
     "data": {
      "text/plain": [
       "((2.1859282943175296,\n",
       "  1.8828847442871266,\n",
       "  -0.027588571199210293,\n",
       "  0.9632390540094549),\n",
       " (0.4924819638761282, 0.21259375287863116),\n",
       " (322.6520925509253, -3.349424907155054, 0.011908936851596066))"
      ]
     },
     "execution_count": 48,
     "metadata": {},
     "output_type": "execute_result"
    }
   ],
   "source": [
    "theta_beta, theta_norm, theta_gamma"
   ]
  },
  {
   "cell_type": "code",
   "execution_count": 49,
   "metadata": {},
   "outputs": [
    {
     "data": {
      "text/plain": [
       "1.2702162650610547"
      ]
     },
     "execution_count": 49,
     "metadata": {},
     "output_type": "execute_result"
    }
   ],
   "source": [
    "ana_utils.log_likelihood(all_data, lambda x: beta.pdf(x,*theta_beta))"
   ]
  },
  {
   "cell_type": "code",
   "execution_count": 50,
   "metadata": {},
   "outputs": [
    {
     "data": {
      "text/plain": [
       "1.282190959768768"
      ]
     },
     "execution_count": 50,
     "metadata": {},
     "output_type": "execute_result"
    }
   ],
   "source": [
    "ana_utils.log_likelihood(all_data, lambda x: norm.pdf(x,*theta_norm))"
   ]
  },
  {
   "cell_type": "code",
   "execution_count": 51,
   "metadata": {},
   "outputs": [
    {
     "data": {
      "text/plain": [
       "1.272594476770472"
      ]
     },
     "execution_count": 51,
     "metadata": {},
     "output_type": "execute_result"
    }
   ],
   "source": [
    "ana_utils.log_likelihood(all_data, lambda x: gamma.pdf(x,*theta_gamma))"
   ]
  },
  {
   "cell_type": "code",
   "execution_count": 52,
   "metadata": {},
   "outputs": [
    {
     "data": {
      "text/plain": [
       "KstestResult(statistic=0.08180418109551679, pvalue=0.4971641657690502)"
      ]
     },
     "execution_count": 52,
     "metadata": {},
     "output_type": "execute_result"
    }
   ],
   "source": [
    "kstest(all_data, lambda x: beta.cdf(x, *theta_beta))"
   ]
  },
  {
   "cell_type": "code",
   "execution_count": 146,
   "metadata": {},
   "outputs": [
    {
     "name": "stdout",
     "output_type": "stream",
     "text": [
      "0.07950907526607581\n",
      "Convergent:  97\n",
      "Passed\n",
      "0.07182394411311865\n",
      "Convergent:  98\n",
      "Passed\n",
      "0.04953749563294885\n",
      "Convergent:  96\n",
      "Passed\n",
      "0.07220539886793498\n",
      "Convergent:  100\n",
      "Passed\n",
      "0.0740747073313614\n",
      "Convergent:  99\n",
      "Passed\n",
      "0.04034213063226094\n",
      "Convergent:  95\n",
      "Passed\n",
      "0.05881624804946434\n",
      "Convergent:  99\n",
      "Passed\n",
      "0.061134783293816386\n",
      "Convergent:  98\n",
      "Passed\n",
      "0.07168429651724229\n",
      "Convergent:  99\n",
      "Passed\n",
      "0.08093033975367259\n",
      "Convergent:  96\n",
      "Passed\n"
     ]
    }
   ],
   "source": [
    "distr = beta\n",
    "\n",
    "for i in range(1,11):\n",
    "    xs = ana_utils.get_tms_entropy(\n",
    "        '/media/sf_VBoxshare/Experimente/output/static_2/gsat.db', i,\n",
    "        eps=2**(-10), max_loops=20000\n",
    "    )\n",
    "                                  \n",
    "    all_data = []\n",
    "    for _, h, conv in xs:\n",
    "        if conv and h > 0.01:\n",
    "            all_data.append(h)\n",
    "        \n",
    "    theta = distr.fit(all_data)\n",
    "    res = kstest(all_data, lambda x: distr.cdf(x,*theta))\n",
    "    print(res.statistic)\n",
    "    print('Convergent: ', len(all_data))\n",
    "    if res.statistic >= 0.1358:\n",
    "        print('Fail')\n",
    "    else:\n",
    "        print('Passed')\n",
    "    "
   ]
  },
  {
   "cell_type": "code",
   "execution_count": null,
   "metadata": {},
   "outputs": [],
   "source": []
  }
 ],
 "metadata": {
  "kernelspec": {
   "display_name": "Python 3",
   "language": "python",
   "name": "python3"
  },
  "language_info": {
   "codemirror_mode": {
    "name": "ipython",
    "version": 3
   },
   "file_extension": ".py",
   "mimetype": "text/x-python",
   "name": "python",
   "nbconvert_exporter": "python",
   "pygments_lexer": "ipython3",
   "version": "3.7.1"
  }
 },
 "nbformat": 4,
 "nbformat_minor": 2
}
